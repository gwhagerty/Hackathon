{
  "nbformat": 4,
  "nbformat_minor": 0,
  "metadata": {
    "colab": {
      "name": "nyu_lecture.ipynb",
      "provenance": [],
      "collapsed_sections": [],
      "include_colab_link": true
    },
    "kernelspec": {
      "name": "python3",
      "display_name": "Python 3"
    },
    "language_info": {
      "name": "python"
    }
  },
  "cells": [
    {
      "cell_type": "markdown",
      "metadata": {
        "id": "view-in-github",
        "colab_type": "text"
      },
      "source": [
        "<a href=\"https://colab.research.google.com/github/gwhagerty/Hackathon/blob/main/nyu_lecture.ipynb\" target=\"_parent\"><img src=\"https://colab.research.google.com/assets/colab-badge.svg\" alt=\"Open In Colab\"/></a>"
      ]
    },
    {
      "cell_type": "code",
      "source": [
        "name = 'hungry'\n",
        "print(\"hello world! i'm \" + name)"
      ],
      "metadata": {
        "id": "M-7HVxIdk_wN"
      },
      "execution_count": null,
      "outputs": []
    },
    {
      "cell_type": "code",
      "source": [
        "# @title Hidden code for default chart styles\n",
        "# plotting specific stuff to ignore\n",
        "import matplotlib\n",
        "import warnings\n",
        "warnings.filterwarnings('ignore')\n",
        "font = {'weight' : 'bold',\n",
        "        'size'   : 22}\n",
        "matplotlib.rc('font', **font)\n",
        "matplotlib.rcParams['figure.figsize'] = (12, 6)"
      ],
      "metadata": {
        "id": "1RCFYoIvVtP9",
        "cellView": "form"
      },
      "execution_count": null,
      "outputs": []
    },
    {
      "cell_type": "code",
      "source": [
        "import pandas as pd\n",
        "\n",
        "raw_data = pd.read_csv('https://raw.githubusercontent.com/jdanial18/energy_markets_forecasting/main/data.csv')\n",
        "raw_data.head(5)"
      ],
      "metadata": {
        "id": "M9yvgXddU1uD"
      },
      "execution_count": null,
      "outputs": []
    },
    {
      "cell_type": "code",
      "source": [
        "# this section makes a \"datetime\" index\n",
        "# it will help us with plotting and other things\n",
        "# but isnt needed for forecasts\n",
        "data = raw_data.set_index('datetime')\n",
        "data.index = pd.to_datetime(data.index)\n",
        "data.head()"
      ],
      "metadata": {
        "id": "TLxaZ8rICnCk"
      },
      "execution_count": null,
      "outputs": []
    },
    {
      "cell_type": "code",
      "source": [
        "# line plot\n",
        "data.plot(y='load')"
      ],
      "metadata": {
        "id": "BuIOv81VO5Am"
      },
      "execution_count": null,
      "outputs": []
    },
    {
      "cell_type": "code",
      "source": [
        "data = data.resample('D').mean().dropna()\n",
        "data.head()"
      ],
      "metadata": {
        "id": "qLZFM-HMFHqA"
      },
      "execution_count": null,
      "outputs": []
    },
    {
      "cell_type": "code",
      "source": [
        "data.plot(y='load')\n",
        "data.plot(y='temp', color='r')"
      ],
      "metadata": {
        "id": "vgpPEJqWF5VP"
      },
      "execution_count": null,
      "outputs": []
    },
    {
      "cell_type": "code",
      "source": [
        "data.plot(y='load')\n",
        "data.plot(y='temp', color='r')"
      ],
      "metadata": {
        "id": "NiOxx_9hGOgZ"
      },
      "execution_count": null,
      "outputs": []
    },
    {
      "cell_type": "code",
      "source": [
        "data.plot.scatter(x='temp', y='load', alpha=.5)"
      ],
      "metadata": {
        "id": "WZLf9nso3q8p"
      },
      "execution_count": null,
      "outputs": []
    },
    {
      "cell_type": "code",
      "source": [
        "import statsmodels.api as sm\n",
        "data['constant'] = 1\n",
        "model = sm.OLS(data['load'], data[['temp', 'constant']])\n",
        "result = model.fit()\n",
        "data['prediction'] = result.predict(data[['temp', 'constant']])\n",
        "ax = data.plot.scatter('temp', 'load')\n",
        "data.plot(ax=ax, x='temp', y='prediction', color='r')"
      ],
      "metadata": {
        "id": "q1GRhK2eRp7u"
      },
      "execution_count": null,
      "outputs": []
    },
    {
      "cell_type": "code",
      "source": [
        "from sklearn.ensemble import GradientBoostingRegressor\n",
        "model = GradientBoostingRegressor()\n",
        "# x vs y this time\n",
        "model = model.fit(data[['temp']], data['load'])\n",
        "data['pred'] = model.predict(data[['temp']])\n",
        "ax = data.plot.scatter('temp', 'load')\n",
        "data.plot.scatter(ax=ax, x='temp', y='pred', color='r')"
      ],
      "metadata": {
        "id": "I9UICAJR_YEv"
      },
      "execution_count": null,
      "outputs": []
    },
    {
      "cell_type": "code",
      "source": [
        "from sklearn.ensemble import GradientBoostingRegressor, AdaBoostRegressor\n",
        "xgb = GradientBoostingRegressor()\n",
        "ada = AdaBoostRegressor()\n",
        "train = data[data.index < '1/1/2019']\n",
        "test = data[data.index > '1/1/2019']\n",
        "x_train = train[['temp']]\n",
        "y_train = train[['load']]\n",
        "x_test = test[['temp']]\n",
        "y_test = test[['load']]\n",
        "xgb = xgb.fit(x_train, y_train)\n",
        "ada = ada.fit(x_train, y_train)\n",
        "y_test['xgb'] = xgb.predict(x_test)\n",
        "y_test['ada'] = ada.predict(x_test)\n",
        "ax = train.plot(y='load')\n",
        "y_test.plot(ax=ax)"
      ],
      "metadata": {
        "id": "3EpQKmrVIvw7"
      },
      "execution_count": null,
      "outputs": []
    },
    {
      "cell_type": "code",
      "source": [
        "data['day'] = data.index.dayofweek\n",
        "data['month'] = data.index.month\n",
        "data.head()"
      ],
      "metadata": {
        "id": "I_dk59R8NEcZ"
      },
      "execution_count": null,
      "outputs": []
    },
    {
      "cell_type": "code",
      "source": [
        "day_dum = pd.get_dummies(data['day'], prefix='day')\n",
        "month_dum = pd.get_dummies(data['month'], prefix='month')\n",
        "month_dum.head()"
      ],
      "metadata": {
        "id": "-31GcQ16487F"
      },
      "execution_count": null,
      "outputs": []
    },
    {
      "cell_type": "code",
      "source": [
        "day_dum_cols = day_dum.columns\n",
        "month_dum_cols = month_dum.columns\n",
        "\n",
        "data = pd.concat([data, day_dum], 1)\n",
        "data = pd.concat([data, month_dum], 1)"
      ],
      "metadata": {
        "id": "bXu27Z-lThyR"
      },
      "execution_count": null,
      "outputs": []
    },
    {
      "cell_type": "code",
      "source": [
        "x_columns = ['temp'] + list(day_dum_cols) + list(month_dum_cols)\n",
        "\n",
        "xgb = GradientBoostingRegressor()\n",
        "ada = AdaBoostRegressor()\n",
        "train = data[data.index < '1/1/2018']\n",
        "test = data[data.index > '1/1/2018']\n",
        "\n",
        "\n",
        "x_train = train[x_columns]\n",
        "y_train = train[['load']]\n",
        "x_test = test[x_columns]\n",
        "y_test = test[['load']]\n",
        "xgb = xgb.fit(x_train, y_train)\n",
        "ada = ada.fit(x_train, y_train)\n",
        "y_test['xgb'] = xgb.predict(x_test)\n",
        "# y_test['ada'] = ada.predict(x_test)\n",
        "ax = train.plot(y='load')\n",
        "y_test.plot(ax=ax)"
      ],
      "metadata": {
        "id": "COVIWvNMHkqF"
      },
      "execution_count": null,
      "outputs": []
    },
    {
      "cell_type": "code",
      "source": [
        ""
      ],
      "metadata": {
        "id": "W8klUFA5JREV"
      },
      "execution_count": null,
      "outputs": []
    },
    {
      "cell_type": "code",
      "source": [
        ""
      ],
      "metadata": {
        "id": "ddplPRzlZYbf"
      },
      "execution_count": null,
      "outputs": []
    },
    {
      "cell_type": "code",
      "source": [
        "!pip install meteostat\n",
        "import pandas as pd\n",
        "import meteostat as met\n",
        "\n",
        "def load_data():\n",
        "    url = 'https://www.eia.gov/opendata/qb.php?category=3389943&sdid=EBA.NY-ALL.D.HL'\n",
        "    load = pd.read_html(url)[0]\n",
        "    load.columns = load.columns.str.lower().str.replace(' ', '_')\n",
        "    load['datetime'] = pd.to_datetime(load['period'].str.split('-').str[0])\n",
        "    load = load.set_index('datetime')[['value']]\n",
        "    load.columns = ['load']\n",
        "    load = load.resample('H').mean()\n",
        "\n",
        "    stations = met.Stations()\n",
        "    inv = stations.inventory(freq='hourly').fetch()\n",
        "    ny = inv[(inv['country'] == 'US') & (inv['region'] == 'NY')]\n",
        "    nyc = ny[ny['name'] == 'LaGuardia Airport']\n",
        "    nyc = nyc.reset_index().loc[0]\n",
        "    weather = met.Hourly(nyc['id'],\n",
        "                        start=load.index.min(),\n",
        "                        end=load.index.max(),\n",
        "                        timezone=nyc['timezone'])\n",
        "    weather = weather.fetch()\n",
        "    weather.index = pd.to_datetime(weather.index.astype(str).str[:-6])\n",
        "    weather = weather.resample('H').mean()\n",
        "    df = pd.concat([load, weather[['temp']]], 1).dropna(0)\n",
        "    return df \n"
      ],
      "metadata": {
        "id": "1i6kaKVt5gE5"
      },
      "execution_count": null,
      "outputs": []
    },
    {
      "cell_type": "code",
      "source": [
        ""
      ],
      "metadata": {
        "id": "GAAGp5HEYE9P"
      },
      "execution_count": null,
      "outputs": []
    },
    {
      "cell_type": "code",
      "source": [
        ""
      ],
      "metadata": {
        "id": "r28Rp6tfJ8-c"
      },
      "execution_count": null,
      "outputs": []
    },
    {
      "cell_type": "code",
      "source": [
        ""
      ],
      "metadata": {
        "id": "m8aql-b8KDP6"
      },
      "execution_count": null,
      "outputs": []
    },
    {
      "cell_type": "code",
      "source": [
        ""
      ],
      "metadata": {
        "id": "RR02PXIpLqF5"
      },
      "execution_count": null,
      "outputs": []
    },
    {
      "cell_type": "code",
      "source": [
        ""
      ],
      "metadata": {
        "id": "6XSMM-szLv1Z"
      },
      "execution_count": null,
      "outputs": []
    },
    {
      "cell_type": "code",
      "source": [
        ""
      ],
      "metadata": {
        "id": "fv88CwWpMc_I"
      },
      "execution_count": null,
      "outputs": []
    },
    {
      "cell_type": "code",
      "source": [
        ""
      ],
      "metadata": {
        "id": "dX-t6vqyMhio"
      },
      "execution_count": null,
      "outputs": []
    }
  ]
}